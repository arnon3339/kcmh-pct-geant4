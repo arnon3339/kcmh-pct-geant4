{
 "cells": [
  {
   "cell_type": "code",
   "execution_count": 1,
   "metadata": {},
   "outputs": [],
   "source": [
    "import os\n",
    "from os import path\n",
    "import uproot\n",
    "import pandas as pd"
   ]
  },
  {
   "cell_type": "code",
   "execution_count": 6,
   "metadata": {},
   "outputs": [
    {
     "name": "stdout",
     "output_type": "stream",
     "text": [
      "6         0.0\n",
      "7         0.0\n",
      "8         0.0\n",
      "9         0.0\n",
      "10        0.0\n",
      "         ... \n",
      "529092    0.0\n",
      "529093    0.0\n",
      "529094    0.0\n",
      "529095    0.0\n",
      "529096    0.0\n",
      "Name: thickness, Length: 433452, dtype: float64\n"
     ]
    }
   ],
   "source": [
    "out_dir = \"../build/output\"\n",
    "en_dirs = os.listdir(out_dir)\n",
    "en_dirs.sort()\n",
    "\n",
    "root_files = [f for f in os.listdir(path.join(out_dir, en_dirs[-1],\n",
    "                                              'projection_000')) if '_t' in f]\n",
    "\n",
    "with uproot.open(path.join(out_dir, en_dirs[-1], 'projection_000', root_files[0])) as root_data:\n",
    "    tree = root_data['pCT;1']\n",
    "    df = tree.arrays(library='pd')\n",
    "    # print(root_data['pCT;1'].__dir__())\n",
    "\n",
    "print(df[df.layerID > 5]['thickness'])"
   ]
  },
  {
   "cell_type": "code",
   "execution_count": null,
   "metadata": {},
   "outputs": [],
   "source": []
  }
 ],
 "metadata": {
  "kernelspec": {
   "display_name": "physics",
   "language": "python",
   "name": "python3"
  },
  "language_info": {
   "codemirror_mode": {
    "name": "ipython",
    "version": 3
   },
   "file_extension": ".py",
   "mimetype": "text/x-python",
   "name": "python",
   "nbconvert_exporter": "python",
   "pygments_lexer": "ipython3",
   "version": "3.12.3"
  }
 },
 "nbformat": 4,
 "nbformat_minor": 2
}
