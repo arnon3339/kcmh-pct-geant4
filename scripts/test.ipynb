{
 "cells": [
  {
   "cell_type": "code",
   "execution_count": null,
   "metadata": {},
   "outputs": [],
   "source": [
    "import os\n",
    "from os import path\n",
    "import uproot\n",
    "import pandas as pd"
   ]
  },
  {
   "cell_type": "code",
   "execution_count": 9,
   "metadata": {},
   "outputs": [
    {
     "name": "stdout",
     "output_type": "stream",
     "text": [
      "   eventID  pixelX  pixelY  layerID      edep  trackID  parentID  PDGe\n",
      "0    37000    4601    3068        0  0.013983        1         0 -2212\n",
      "1    37000    4602    3068        1  0.078496        1         0 -2212\n",
      "2    37000    4598    3070        2  0.010932        1         0 -2212\n",
      "3    37000    4591    3072        3  0.020901        1         0 -2212\n",
      "4    37000    4588    3080        4  0.013237        1         0 -2212\n"
     ]
    }
   ],
   "source": [
    "out_dir = \"../build/output\"\n",
    "en_dirs = os.listdir(out_dir)\n",
    "en_dirs.sort()\n",
    "\n",
    "root_files = [f for f in os.listdir(path.join(out_dir, en_dirs[-1],\n",
    "                                              'projection_000')) if '_t' in f]\n",
    "\n",
    "with uproot.open(path.join(out_dir, en_dirs[-1], 'projection_000', root_files[0])) as root_data:\n",
    "    tree = root_data['pCT;1']\n",
    "    df = tree.arrays(library='pd')\n",
    "    # print(root_data['pCT;1'].__dir__())\n",
    "\n",
    "print(df.head())"
   ]
  },
  {
   "cell_type": "code",
   "execution_count": null,
   "metadata": {},
   "outputs": [],
   "source": []
  }
 ],
 "metadata": {
  "kernelspec": {
   "display_name": ".venv",
   "language": "python",
   "name": "python3"
  },
  "language_info": {
   "codemirror_mode": {
    "name": "ipython",
    "version": 3
   },
   "file_extension": ".py",
   "mimetype": "text/x-python",
   "name": "python",
   "nbconvert_exporter": "python",
   "pygments_lexer": "ipython3",
   "version": "3.10.12"
  }
 },
 "nbformat": 4,
 "nbformat_minor": 2
}
